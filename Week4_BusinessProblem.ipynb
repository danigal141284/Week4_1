{
 "cells": [
  {
   "cell_type": "markdown",
   "metadata": {},
   "source": [
    "# Applied Data Science Capstone - Week 4"
   ]
  },
  {
   "cell_type": "markdown",
   "metadata": {},
   "source": [
    "## A. Introduction"
   ]
  },
  {
   "cell_type": "markdown",
   "metadata": {},
   "source": [
    "### A.1. Introduction / Business Problem"
   ]
  },
  {
   "cell_type": "markdown",
   "metadata": {},
   "source": [
    "**Montevideo** is the capital of Uruguay, where about one and a half million people live and a population high density of 6.253 people per square kilometer. In this project, I chose Montevideo because I grew up in this city and I'm living there at present. The city is divided into 62 neighborhoods in total. \n",
    "\n",
    "In the last decade, **Uruguay** has experienced an **important economic growth** which lead to a significant number of **new venues** from all categories specially near the **city's most populated neighborhoods**. \n",
    "\n",
    "Therefore, **stakeholders** require some advice on **where to settle and launch their new businesses**. Experience from local residents is always useful, but it is interesting to also **rely on data** to take a final **decision**.\n",
    "\n",
    "This project will be targeted to new **investors** trying to find an optimal location for a new **Pub** in **Montevideo**, Uruguay.\n",
    "\n",
    "When we think of it by the investor, we expect from them to prefer the neighborhoods where there is a lower real estate cost and the type of business they want to install is less intense. \n",
    "\n",
    "We are also particularly interested in **areas with plenty of venues in vicinity** as an indicator of **economic activity**, and **neighborhoods with not too high housing prices**. We would also prefer locations **as close to city center as possible**, assuming that first two conditions are met. When we consider all these problems, we can create a map and information chart where the real estate index is placed on Montevideo and each district is clustered according to the venue density.\n",
    "\n",
    "We will use our data science powers to generate a few most promissing neighborhoods based on this criteria. Advantages of each area will then be clearly expressed so that best possible final location can be chosen by investors. "
   ]
  }
 ],
 "metadata": {
  "kernelspec": {
   "display_name": "Python 3",
   "language": "python",
   "name": "python3"
  },
  "language_info": {
   "codemirror_mode": {
    "name": "ipython",
    "version": 3
   },
   "file_extension": ".py",
   "mimetype": "text/x-python",
   "name": "python",
   "nbconvert_exporter": "python",
   "pygments_lexer": "ipython3",
   "version": "3.6.8"
  }
 },
 "nbformat": 4,
 "nbformat_minor": 2
}
